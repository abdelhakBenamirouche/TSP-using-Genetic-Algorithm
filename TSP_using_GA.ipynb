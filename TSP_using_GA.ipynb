{
 "cells": [
  {
   "cell_type": "markdown",
   "metadata": {
    "tags": []
   },
   "source": [
    "# Travelling Salesman Problem using Genetic Algorithm"
   ]
  },
  {
   "cell_type": "code",
   "execution_count": 1,
   "metadata": {},
   "outputs": [],
   "source": [
    "# Imports\n",
    "import numpy as np\n",
    "import random\n",
    "from matplotlib import pyplot as plt"
   ]
  },
  {
   "cell_type": "code",
   "execution_count": 2,
   "metadata": {},
   "outputs": [],
   "source": [
    "# Options\n",
    "n_cities = 10 # Number of cities\n",
    "\n",
    "n_population = 100\n",
    "\n",
    "mutation_rate = 0.1\n",
    "\n",
    "n_generation = 100"
   ]
  },
  {
   "cell_type": "code",
   "execution_count": 3,
   "metadata": {
    "slideshow": {
     "slide_type": "slide"
    },
    "tags": []
   },
   "outputs": [
    {
     "data": {
      "text/plain": [
       "{0: [119, 61],\n",
       " 1: [169, 96],\n",
       " 2: [135, 179],\n",
       " 3: [198, 124],\n",
       " 4: [130, 64],\n",
       " 5: [0, 6],\n",
       " 6: [197, 83],\n",
       " 7: [199, 89],\n",
       " 8: [60, 152],\n",
       " 9: [108, 80]}"
      ]
     },
     "execution_count": 3,
     "metadata": {},
     "output_type": "execute_result"
    }
   ],
   "source": [
    "# Generating a list of coordinates representing each city\n",
    "coordinates_list = [[x,y] for x,y in zip(np.random.randint(0,200,n_cities),np.random.randint(0,200,n_cities))]\n",
    "names_list = np.array([x for x in range(n_cities)])\n",
    "cities_dict = { x:y for x,y in zip(names_list,coordinates_list)}\n",
    "\n",
    "cities_dict"
   ]
  },
  {
   "cell_type": "code",
   "execution_count": 4,
   "metadata": {
    "tags": []
   },
   "outputs": [],
   "source": [
    "# Function to calculate the distance between two cities\n",
    "def compute_city_distance_coordinates(a,b):\n",
    "    return ((a[0]-b[0])**2+(a[1]-b[1])**2)**0.5\n",
    "\n",
    "def compute_city_distance_names(city_a, city_b, cities_dict):\n",
    "    return compute_city_distance_coordinates(cities_dict[city_a], cities_dict[city_b])"
   ]
  },
  {
   "cell_type": "code",
   "execution_count": 5,
   "metadata": {},
   "outputs": [
    {
     "data": {
      "text/plain": [
       "Text(0.5, 1.0, 'Traveling Salesman Problem')"
      ]
     },
     "execution_count": 5,
     "metadata": {},
     "output_type": "execute_result"
    },
    {
     "data": {
      "image/png": "[encoded data removed]",
      "text/plain": [
       "<Figure size 432x288 with 1 Axes>"
      ]
     },
     "metadata": {
      "needs_background": "light"
     },
     "output_type": "display_data"
    }
   ],
   "source": [
    "# Visualize Cities\n",
    "gen_cities = []\n",
    "for i in cities_dict.keys():\n",
    "    gen_cities.append(cities_dict[i])\n",
    "\n",
    "plt.scatter([c[0] for c in gen_cities], [c[1] for c in gen_cities])\n",
    "\n",
    "plt.xlabel(\"x\")\n",
    "plt.ylabel(\"y\")\n",
    "\n",
    "plt.title(\"Traveling Salesman Problem\")"
   ]
  },
  {
   "cell_type": "markdown",
   "metadata": {
    "tags": []
   },
   "source": [
    "## 1. Initialization"
   ]
  },
  {
   "cell_type": "code",
   "execution_count": 6,
   "metadata": {},
   "outputs": [],
   "source": [
    "# Create the first population set : random order of city indices\n",
    "def genesis(city_list, n_population):\n",
    "\n",
    "    population_set = []\n",
    "    for i in range(n_population):\n",
    "        sol_i = city_list[np.random.choice(list(range(n_cities)), n_cities, replace=False)]\n",
    "        population_set.append(sol_i)\n",
    "    return np.array(population_set)\n",
    "\n",
    "population_set = genesis(names_list, n_population)"
   ]
  },
  {
   "cell_type": "markdown",
   "metadata": {},
   "source": [
    "## 2. Fitness function"
   ]
  },
  {
   "cell_type": "code",
   "execution_count": 7,
   "metadata": {},
   "outputs": [],
   "source": [
    "def fitness_eval(city_list, cities_dict):\n",
    "    total = 0\n",
    "    for i in range(len(city_list)-1):\n",
    "        a = city_list[i]\n",
    "        b = city_list[i+1]\n",
    "        total += compute_city_distance_names(a,b, cities_dict)\n",
    "    return total"
   ]
  },
  {
   "cell_type": "code",
   "execution_count": 8,
   "metadata": {},
   "outputs": [],
   "source": [
    "def get_all_fitness(population_set, cities_dict):\n",
    "    fitness_list = np.zeros(n_population)\n",
    "\n",
    "    #Looping over all solutions computing the fitness for each solution\n",
    "    for i in  range(len(population_set)):\n",
    "        fitness_list[i] = fitness_eval(population_set[i], cities_dict)\n",
    "\n",
    "    return fitness_list\n",
    "\n",
    "fitness_list = get_all_fitness(population_set,cities_dict)"
   ]
  },
  {
   "cell_type": "markdown",
   "metadata": {},
   "source": [
    "# 3. Selection"
   ]
  },
  {
   "cell_type": "code",
   "execution_count": 9,
   "metadata": {},
   "outputs": [],
   "source": [
    "# tournament selection\n",
    "def selection(population_set,fitness_list):\n",
    "    # first random selection\n",
    "    selection_ix = random.randint(0,len(population_set)-1)\n",
    "    ix = random.randint(0, len(population_set)-1)\n",
    "    # perform a tournament\n",
    "    if fitness_list[ix] < fitness_list[selection_ix]:\n",
    "        selection_ix = ix\n",
    "    return population_set[selection_ix]\n",
    "\n",
    "# select parents\n",
    "def progenitor_selection(population_set,fitness_list):\n",
    "    if len(population_set) % 2 == 0 :\n",
    "        progenitor_list = [selection(population_set,fitness_list).tolist() for _ in range(int(len(population_set)/2))]\n",
    "    else:\n",
    "        progenitor_list = [selection(population_set,fitness_list).tolist() for _ in range(int(len(population_set)/2) + 1)]\n",
    "    return np.array(progenitor_list)\n",
    "\n",
    "progenitor_list = progenitor_selection(population_set,fitness_list)"
   ]
  },
  {
   "cell_type": "markdown",
   "metadata": {},
   "source": [
    "# 4. Mating"
   ]
  },
  {
   "cell_type": "code",
   "execution_count": 10,
   "metadata": {},
   "outputs": [],
   "source": [
    "def mate_progenitors(prog_a, prog_b):\n",
    "    offspring = prog_a[0:3]\n",
    "\n",
    "    for city in prog_b:\n",
    "\n",
    "        if not city in offspring:\n",
    "            offspring = np.concatenate((offspring,[city]))\n",
    "\n",
    "    return offspring\n",
    "    \n",
    "def mate_population(progenitor_list, n_population):\n",
    "    new_population_set = []\n",
    "\n",
    "    progenitor_list_a_index = np.random.choice(list(range(int(n_population/2))), int(n_population/2), replace = False)\n",
    "    progenitor_list_b_index = np.random.choice(list(range(int(n_population/2))), int(n_population/2), replace = False)\n",
    "    \n",
    "    progenitor_list_a = []\n",
    "    progenitor_list_b = []\n",
    "    \n",
    "    for i in progenitor_list_a_index:\n",
    "        progenitor_list_a.append(progenitor_list[i].tolist())\n",
    "    \n",
    "    for i in progenitor_list_b_index:\n",
    "        progenitor_list_b.append(progenitor_list[i].tolist())\n",
    "    \n",
    "    for i in range(int(n_population/2)):\n",
    "        prog_a = progenitor_list_a[i]\n",
    "        prog_b = progenitor_list_b[i]\n",
    "        offspring = mate_progenitors(prog_a, prog_b)\n",
    "        new_population_set.append(offspring.tolist())\n",
    "        \n",
    "    return new_population_set\n",
    "\n",
    "new_population_set = mate_population(progenitor_list, n_population)"
   ]
  },
  {
   "cell_type": "markdown",
   "metadata": {},
   "source": [
    "# 5. Mutation"
   ]
  },
  {
   "cell_type": "code",
   "execution_count": 11,
   "metadata": {},
   "outputs": [],
   "source": [
    "def mutate_offspring(offspring):\n",
    "    for q in range(int(n_cities*mutation_rate)):\n",
    "        a = np.random.randint(0,n_cities)\n",
    "        b = np.random.randint(0,n_cities)\n",
    "\n",
    "        offspring[a], offspring[b] = offspring[b], offspring[a]\n",
    "\n",
    "    return offspring\n",
    "    \n",
    "def mutate_population(new_population_set):\n",
    "    mutated_pop = []\n",
    "    for offspring in new_population_set:\n",
    "        mutated_pop.append(mutate_offspring(offspring))\n",
    "    return mutated_pop\n",
    "\n",
    "mutated_pop = mutate_population(new_population_set)\n",
    "\n",
    "new_population = np.array(progenitor_list.tolist() + mutated_pop)"
   ]
  },
  {
   "cell_type": "markdown",
   "metadata": {},
   "source": [
    "# 6. Run Genetic Algorithm"
   ]
  },
  {
   "cell_type": "code",
   "execution_count": 12,
   "metadata": {},
   "outputs": [
    {
     "name": "stdout",
     "output_type": "stream",
     "text": [
      "0 692.8346116613568 908.2598275461762\n",
      "10 533.5470286978816 710.3434044193787\n",
      "20 547.5205640564174 680.6346008479438\n",
      "30 518.8259345360168 640.600539945168\n",
      "40 491.78496684347414 635.2670844317696\n",
      "50 491.78496684347414 606.032220304674\n",
      "60 491.78496684347414 603.9070230571652\n",
      "70 491.78496684347414 614.2959088998667\n",
      "80 491.78496684347414 602.9536787588418\n",
      "90 491.78496684347414 618.4054833907347\n"
     ]
    }
   ],
   "source": [
    "def Run_GA(cities_dict, names_list, n_population, n_generation):\n",
    "    \n",
    "    # Create the first population set\n",
    "    population_set = genesis(names_list, n_population)\n",
    "    \n",
    "    fitness_list = get_all_fitness(population_set,cities_dict)\n",
    "    \n",
    "    best_solution = [-1,np.inf,np.array([])]\n",
    "    \n",
    "    new_population = population_set\n",
    "    \n",
    "    for i in range(n_generation):\n",
    "        \n",
    "        # Selection\n",
    "        progenitor_list = progenitor_selection(new_population,fitness_list)\n",
    "\n",
    "        # Mating\n",
    "        new_population_set = mate_population(progenitor_list,n_population)\n",
    "        \n",
    "        # Mutation\n",
    "        mutated_pop = mutate_population(new_population_set)\n",
    "        \n",
    "        # New population\n",
    "        new_population = np.array(progenitor_list.tolist() + mutated_pop)\n",
    "        \n",
    "        if i%(n_generation/10)==0: print(i, fitness_list.min(), fitness_list.mean())\n",
    "        \n",
    "        # Fitness\n",
    "        fitness_list = get_all_fitness(new_population,cities_dict)\n",
    "        \n",
    "        #Saving the best solution\n",
    "        if fitness_list.min() < best_solution[1]:\n",
    "            best_solution[0] = i\n",
    "            best_solution[1] = fitness_list.min()\n",
    "            best_solution[2] = np.array(new_population)[fitness_list.min() == fitness_list]\n",
    "\n",
    "    return best_solution\n",
    "    \n",
    "best_solution = Run_GA(cities_dict, names_list, n_population, n_generation)"
   ]
  },
  {
   "cell_type": "code",
   "execution_count": 13,
   "metadata": {},
   "outputs": [
    {
     "data": {
      "text/plain": [
       "[12, 484.0251787731966, array([[5, 8, 9, 0, 4, 1, 6, 7, 3, 2]])]"
      ]
     },
     "execution_count": 13,
     "metadata": {},
     "output_type": "execute_result"
    }
   ],
   "source": [
    "best_solution"
   ]
  },
  {
   "cell_type": "code",
   "execution_count": 14,
   "metadata": {},
   "outputs": [
    {
     "data": {
      "text/plain": [
       "Text(0.5, 1.0, 'Optimized Route')"
      ]
     },
     "execution_count": 14,
     "metadata": {},
     "output_type": "execute_result"
    },
    {
     "data": {
      "image/png": "[encoded data removed]",
      "text/plain": [
       "<Figure size 432x288 with 1 Axes>"
      ]
     },
     "metadata": {
      "needs_background": "light"
     },
     "output_type": "display_data"
    }
   ],
   "source": [
    "# Visualize Result\n",
    "cities_ordered = best_solution[2][0]\n",
    "\n",
    "cities_ordered_coord = []\n",
    "for i in cities_ordered:\n",
    "    cities_ordered_coord.append(cities_dict[i])\n",
    "\n",
    "X = [c[0] for c in cities_ordered_coord] + [cities_ordered_coord[0][0]]\n",
    "Y = [c[1] for c in cities_ordered_coord] + [cities_ordered_coord[0][1]]\n",
    "\n",
    "plt.plot(X,Y, marker = \"o\", markerfacecolor='green')\n",
    "plt.title(\"Optimized Route\")"
   ]
  }
 ],
 "metadata": {
  "kernelspec": {
   "display_name": "Python 3 (ipykernel)",
   "language": "python",
   "name": "python3"
  },
  "language_info": {
   "codemirror_mode": {
    "name": "ipython",
    "version": 3
   },
   "file_extension": ".py",
   "mimetype": "text/x-python",
   "name": "python",
   "nbconvert_exporter": "python",
   "pygments_lexer": "ipython3",
   "version": "3.10.4"
  }
 },
 "nbformat": 4,
 "nbformat_minor": 4
}
